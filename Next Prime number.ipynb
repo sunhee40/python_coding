{
 "cells": [
  {
   "cell_type": "raw",
   "id": "f9b5b664",
   "metadata": {},
   "source": [
    "#Next Prime Number - Have the program find prime numbers until the user chooses to stop asking for the next one.\n"
   ]
  },
  {
   "cell_type": "code",
   "execution_count": 31,
   "id": "98238e7e",
   "metadata": {},
   "outputs": [
    {
     "name": "stdout",
     "output_type": "stream",
     "text": [
      "Do you want to play the next prime number game? enter Y or Ny\n",
      "What number do you want to enter to see the next prime number?234\n",
      "239\n",
      "Do you want to play the next prime number game? enter Y or Ny\n",
      "What number do you want to enter to see the next prime number?646\n",
      "647\n",
      "Do you want to play the next prime number game? enter Y or Nn\n",
      "game over\n"
     ]
    }
   ],
   "source": [
    "game_on= ''\n",
    "\n",
    "def game_on():\n",
    "    game_on= ''\n",
    "    while game_on =='':\n",
    "        ask=input('Do you want to play the next prime number game? enter Y or N').upper()\n",
    "        if ask not in ['Y','N']:\n",
    "            print('Sorry. Enter the wrong input. Please enter Y or N')\n",
    "\n",
    "        elif ask =='Y':\n",
    "            return True\n",
    "            break\n",
    "\n",
    "        elif ask=='N':\n",
    "            return False\n",
    "            print('Goodbye')\n",
    "            break\n",
    "\n",
    "\n",
    "gamestart=game_on()\n",
    "\n",
    "while gamestart==True:\n",
    "    \n",
    "    num=input('What number do you want to enter to see the next prime number?')\n",
    "    \n",
    "    if num.isnumeric()==False:\n",
    "        print('Sorry. It is not valid. Please enter a number: ')\n",
    "        continue\n",
    "    \n",
    "    else:\n",
    "        numint=int(num)\n",
    "        for i in range(numint+1,numint+10):\n",
    "            if i % 2==0 or i%3 ==0 or i%5==0 or i%7==0:\n",
    "                continue\n",
    "            else:\n",
    "                print(i)\n",
    "                break\n",
    "                \n",
    "    if game_on()==True:\n",
    "        gamestart=True\n",
    "    else:\n",
    "        gamestart=False\n",
    "        print('Game Over')\n",
    "        \n",
    "\n"
   ]
  },
  {
   "cell_type": "code",
   "execution_count": 27,
   "id": "d5dc928e",
   "metadata": {},
   "outputs": [],
   "source": [
    "game_on()"
   ]
  },
  {
   "cell_type": "code",
   "execution_count": 21,
   "id": "0da8caea",
   "metadata": {},
   "outputs": [
    {
     "data": {
      "text/plain": [
       "range(340, 350)"
      ]
     },
     "execution_count": 21,
     "metadata": {},
     "output_type": "execute_result"
    }
   ],
   "source": [
    "range(340,numint+10)"
   ]
  },
  {
   "cell_type": "code",
   "execution_count": null,
   "id": "f1e7ee37",
   "metadata": {},
   "outputs": [],
   "source": []
  }
 ],
 "metadata": {
  "kernelspec": {
   "display_name": "Python 3 (ipykernel)",
   "language": "python",
   "name": "python3"
  },
  "language_info": {
   "codemirror_mode": {
    "name": "ipython",
    "version": 3
   },
   "file_extension": ".py",
   "mimetype": "text/x-python",
   "name": "python",
   "nbconvert_exporter": "python",
   "pygments_lexer": "ipython3",
   "version": "3.11.5"
  }
 },
 "nbformat": 4,
 "nbformat_minor": 5
}
